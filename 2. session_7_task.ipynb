{
 "cells": [
  {
   "cell_type": "markdown",
   "metadata": {
    "id": "FyUJ3PRAsPr4"
   },
   "source": [
    "##`Q-1:` Rectangle Class\n",
    "1. Write a Rectangle class in Python language, allowing you to build a rectangle with length and width attributes.\n",
    "\n",
    "2. Create a Perimeter() method to calculate the perimeter of the rectangle and a Area() method to calculate the area of ​​the rectangle.\n",
    "\n",
    "3. Create a method display() that display the length, width, perimeter and area of an object created using an instantiation on rectangle class."
   ]
  },
  {
   "cell_type": "markdown",
   "metadata": {
    "id": "GxUtOqJfssFK"
   },
   "source": [
    "Eg.\n",
    "After making above classes and methods, on executing below code:-\n",
    "```\n",
    "my_rectangle = Rectangle(3 , 4)\n",
    "my_rectangle.display()\n",
    "```\n",
    "\n",
    "`Output:`\n",
    "```\n",
    "The length of rectangle is:  3\n",
    "The width of rectangle is:  4\n",
    "The perimeter of rectangle is:  14\n",
    "The area of rectangle is:  12\n",
    "```\n"
   ]
  },
  {
   "cell_type": "code",
   "execution_count": 13,
   "metadata": {
    "id": "92_QT-Uj6NBg"
   },
   "outputs": [
    {
     "name": "stdout",
     "output_type": "stream",
     "text": [
      "Length of the rectangle is:  4\n",
      "Width of the rectangle is:  2\n",
      "Length of the rectangle is:  12\n",
      "Length of the rectangle is:  8\n"
     ]
    }
   ],
   "source": [
    "# write your code here\n",
    "class Rectangle:\n",
    "    def __init__(self,l,b):\n",
    "        self.l = l\n",
    "        self.b = b\n",
    "    def perimeter(self):\n",
    "        return 2*(self.l+self.b)\n",
    "    def area(self):\n",
    "        return self.l*self.b\n",
    "    def display(self):\n",
    "        print(\"Length of the rectangle is: \", self.l)\n",
    "        print(\"Width of the rectangle is: \", self.b)\n",
    "        print(\"Length of the rectangle is: \", self.perimeter())\n",
    "        print(\"Length of the rectangle is: \", self.area())\n",
    "obj = Rectangle(4,2)\n",
    "obj.display()"
   ]
  },
  {
   "cell_type": "markdown",
   "metadata": {
    "id": "r_GxrS0Vrdom"
   },
   "source": [
    "##`Q-2: Bank Class`\n",
    "\n",
    "1. Create a Python class called `BankAccount` which represents a bank account, having as attributes: `accountNumber` (numeric type), `name` (name of the account owner as string type), `balance`.\n",
    "2. Create a constructor with parameters: `accountNumber, name, balance`.\n",
    "3. Create a `Deposit()` method which manages the deposit actions.\n",
    "4. Create a `Withdrawal()` method  which manages withdrawals actions.\n",
    "5. Create an `bankFees()` method to apply the bank fees with a percentage of 5% of the balance account.\n",
    "6. Create a `display()` method to display account details.\n",
    "Give the complete code for the  BankAccount class."
   ]
  },
  {
   "cell_type": "markdown",
   "metadata": {
    "id": "qvVkOUJgvTV_"
   },
   "source": [
    "Eg.\n",
    "After making above classes and methods, on executing below code:-\n",
    "```\n",
    "newAccount = BankAccount(2178514584, \"Mandy\" , 2800)\n",
    "\n",
    "newAccount.Withdrawal(700)\n",
    "\n",
    "newAccount.Deposit(1000)\n",
    "\n",
    "newAccount.display()\n",
    "```\n",
    "\n",
    "`Output:`\n",
    "```\n",
    "Account Number :  2178514584\n",
    "Account Name :  Mandy\n",
    "Account Balance :  3100 ₹\n",
    "```"
   ]
  },
  {
   "cell_type": "code",
   "execution_count": 16,
   "metadata": {
    "id": "fUQOmQyA6YDR"
   },
   "outputs": [
    {
     "name": "stdout",
     "output_type": "stream",
     "text": [
      "Amount deposited sucessfully: \n",
      "Abe sale grib: \n",
      "Account number: 123445\n",
      "Name:  Rahul\n",
      "Balance:  1100 ₹\n"
     ]
    }
   ],
   "source": [
    "# write your code here\n",
    "class BankAccount:\n",
    "    def __init__(self,account_number,name,balance):\n",
    "        self.account_number = account_number\n",
    "        self.name = name\n",
    "        self.balance = balance\n",
    "    def deposit(self,amount):\n",
    "        self.balance += amount\n",
    "        print(\"Amount deposited sucessfully: \")\n",
    "    def withdraw(self,amount):\n",
    "        if amount>self.balance:\n",
    "            print(\"Abe sale grib: \")\n",
    "        else:\n",
    "            self.balance -= amount\n",
    "            reduce = self.bank_fees()\n",
    "            self.balance = self.balance - reduce\n",
    "            print(\"Aap to ambani nikale jii: \")\n",
    "    def bank_fees(self):\n",
    "        return 0.05*self.balance\n",
    "    def display(self):\n",
    "        print(\"Account number:\",self.account_number)\n",
    "        print(\"Name: \",self.name)\n",
    "        print(\"Balance: \",self.balance,'₹')\n",
    "        \n",
    "obj = BankAccount(123445,\"Rahul\",1000)\n",
    "obj.deposit(100)\n",
    "obj.withdraw(5500)\n",
    "obj.display()\n",
    "\n"
   ]
  },
  {
   "cell_type": "markdown",
   "metadata": {
    "id": "QovcQAZTrgGU"
   },
   "source": [
    "##`Q-3:Computation class`\n",
    "\n",
    "1. Create a `Computation` class with a default constructor (without parameters) allowing to perform various calculations on integers numbers.\n",
    "2. Create a method called `Factorial()` which allows to calculate the factorial of an integer n. Integer n as parameter for this method\n",
    "\n",
    "3. Create a method called `naturalSum()` allowing to calculate the sum of the first n integers 1 + 2 + 3 + .. + n. Integer n as parameter for this method.\n",
    "\n",
    "4. Create a method called `testPrime()` in  the Calculation class to test the primality of a given integer n, n is Prime or Not? Integer n as parameter for this method.\n",
    "\n",
    "5. Create  a method called `testPrims()` allowing to test if two numbers are prime between them. Two integers are prime to one another if they have only `1` as their common divisor. Eg. 4 and 9 are prime to each other.\n",
    "\n",
    "5. Create a `tableMult()` method which creates and displays the multiplication table of a given integer. Then create an `allTablesMult()` method to display all the integer multiplication tables 1, 2, 3, ..., 9.\n",
    "\n",
    "6. Create a static `listDiv()` method that gets all the divisors of a given integer on new list called  Ldiv. Create another `listDivPrim()` method that gets all the prime divisors of a given integer."
   ]
  },
  {
   "cell_type": "code",
   "execution_count": 29,
   "metadata": {
    "id": "YEkPH70l6Z-o"
   },
   "outputs": [
    {
     "name": "stdout",
     "output_type": "stream",
     "text": [
      "1 x 2 = 2\n",
      "2 x 2 = 4\n",
      "3 x 2 = 6\n",
      "4 x 2 = 8\n",
      "5 x 2 = 10\n",
      "6 x 2 = 12\n",
      "7 x 2 = 14\n",
      "8 x 2 = 16\n",
      "9 x 2 = 18\n",
      "\n",
      " the multiplication table of: 1 is:\n",
      "1 x 1 = 1\n",
      "2 x 1 = 2\n",
      "3 x 1 = 3\n",
      "4 x 1 = 4\n",
      "5 x 1 = 5\n",
      "6 x 1 = 6\n",
      "7 x 1 = 7\n",
      "8 x 1 = 8\n",
      "9 x 1 = 9\n",
      "\n",
      " the multiplication table of: 2 is:\n",
      "1 x 2 = 2\n",
      "2 x 2 = 4\n",
      "3 x 2 = 6\n",
      "4 x 2 = 8\n",
      "5 x 2 = 10\n",
      "6 x 2 = 12\n",
      "7 x 2 = 14\n",
      "8 x 2 = 16\n",
      "9 x 2 = 18\n",
      "\n",
      " the multiplication table of: 3 is:\n",
      "1 x 3 = 3\n",
      "2 x 3 = 6\n",
      "3 x 3 = 9\n",
      "4 x 3 = 12\n",
      "5 x 3 = 15\n",
      "6 x 3 = 18\n",
      "7 x 3 = 21\n",
      "8 x 3 = 24\n",
      "9 x 3 = 27\n",
      "\n",
      " the multiplication table of: 4 is:\n",
      "1 x 4 = 4\n",
      "2 x 4 = 8\n",
      "3 x 4 = 12\n",
      "4 x 4 = 16\n",
      "5 x 4 = 20\n",
      "6 x 4 = 24\n",
      "7 x 4 = 28\n",
      "8 x 4 = 32\n",
      "9 x 4 = 36\n",
      "\n",
      " the multiplication table of: 5 is:\n",
      "1 x 5 = 5\n",
      "2 x 5 = 10\n",
      "3 x 5 = 15\n",
      "4 x 5 = 20\n",
      "5 x 5 = 25\n",
      "6 x 5 = 30\n",
      "7 x 5 = 35\n",
      "8 x 5 = 40\n",
      "9 x 5 = 45\n",
      "\n",
      " the multiplication table of: 6 is:\n",
      "1 x 6 = 6\n",
      "2 x 6 = 12\n",
      "3 x 6 = 18\n",
      "4 x 6 = 24\n",
      "5 x 6 = 30\n",
      "6 x 6 = 36\n",
      "7 x 6 = 42\n",
      "8 x 6 = 48\n",
      "9 x 6 = 54\n",
      "\n",
      " the multiplication table of: 7 is:\n",
      "1 x 7 = 7\n",
      "2 x 7 = 14\n",
      "3 x 7 = 21\n",
      "4 x 7 = 28\n",
      "5 x 7 = 35\n",
      "6 x 7 = 42\n",
      "7 x 7 = 49\n",
      "8 x 7 = 56\n",
      "9 x 7 = 63\n",
      "\n",
      " the multiplication table of: 8 is:\n",
      "1 x 8 = 8\n",
      "2 x 8 = 16\n",
      "3 x 8 = 24\n",
      "4 x 8 = 32\n",
      "5 x 8 = 40\n",
      "6 x 8 = 48\n",
      "7 x 8 = 56\n",
      "8 x 8 = 64\n",
      "9 x 8 = 72\n",
      "\n",
      " the multiplication table of: 9 is:\n",
      "1 x 9 = 9\n",
      "2 x 9 = 18\n",
      "3 x 9 = 27\n",
      "4 x 9 = 36\n",
      "5 x 9 = 45\n",
      "6 x 9 = 54\n",
      "7 x 9 = 63\n",
      "8 x 9 = 72\n",
      "9 x 9 = 81\n",
      "\n",
      " the multiplication table of: 10 is:\n",
      "1 x 10 = 10\n",
      "2 x 10 = 20\n",
      "3 x 10 = 30\n",
      "4 x 10 = 40\n",
      "5 x 10 = 50\n",
      "6 x 10 = 60\n",
      "7 x 10 = 70\n",
      "8 x 10 = 80\n",
      "9 x 10 = 90\n",
      "[1, 2, 4]\n",
      "Prime number\n",
      "Not a prime number\n",
      "Prime number\n",
      "[]\n"
     ]
    }
   ],
   "source": [
    "# write your code here\n",
    "class Computation:\n",
    "    def __init__(self):\n",
    "        pass\n",
    "    def Factorial(self,n):\n",
    "        if n ==0:\n",
    "            return 1\n",
    "        else:\n",
    "            return n*self.Factorial(n-1)\n",
    "    def naturalSum(self,n):\n",
    "        if n ==1:\n",
    "            return 1\n",
    "        else:\n",
    "            return n+self.naturalSum(n-1)\n",
    "    def testPrime(self,n):\n",
    "        if n<2:\n",
    "            print(\"Not a prime number\")\n",
    "        for i in range(2,int(n**0.5)+1):\n",
    "            if n%i ==0:\n",
    "                print(\"Not a prime number\")\n",
    "            else:\n",
    "                print(\"Prime number\")\n",
    "    def testprimes(self,n,m):\n",
    "        # initialisong the common divisor\n",
    "        commonDiv = 0\n",
    "        for i in range(1,n+1):\n",
    "            if(n%i==0 and m%i==0):\n",
    "                commonDiv +=1\n",
    "\n",
    "        if commonDiv == 1:\n",
    "            print(\"The numbers are coprime \")\n",
    "        else:\n",
    "            print(\"The numbers are not coprime: \")\n",
    "\n",
    "    def tablemul(self,k):\n",
    "        for i in range(1,10):\n",
    "            print(i,\"x\",k, \"=\",i*k)\n",
    "# All multiplication table of num 1,2,3,....,9\n",
    "    def allTables(self):\n",
    "        for k in range(1,11):\n",
    "            print(\"\\n the multiplication table of:\",k,\"is:\")\n",
    "            for i in range(1,10):\n",
    "                print(i, \"x\",k, \"=\",i*k)\n",
    "\n",
    "    def listDivisior(self,n):\n",
    "        ldiv = []\n",
    "        for i in range(1,n+1):\n",
    "            if (n%i ==0):\n",
    "                ldiv.append(i)\n",
    "        print(ldiv)\n",
    "\n",
    "    # method to get all prime divisior of the given integer\n",
    "    def primediv(self,n):\n",
    "            lst = []\n",
    "            if n < 2:\n",
    "                return lst\n",
    "            for i in range(2,n+ 1):\n",
    "                if n % i == 0 and self.testPrime(i):\n",
    "                    lst.append(i)\n",
    "            print(lst)\n",
    "\n",
    "obj = Computation()\n",
    "obj.Factorial(5)\n",
    "obj.naturalSum(6)\n",
    "obj.testPrime(3)\n",
    "obj.tablemul(2)\n",
    "obj.allTables()\n",
    "obj.listDivisior(4)\n",
    "obj.primediv(14)\n",
    "        "
   ]
  },
  {
   "cell_type": "markdown",
   "metadata": {
    "id": "0yn23_oEriXa"
   },
   "source": [
    "##`Q-4`: Build flashcard using class in Python.\n",
    "\n",
    "Build a flashcard using class in python. A flashcard is a card having information on both sides, which can be used as an aid in memoization. Flashcards usually have a question on one side and an answer on the other.\n",
    "\n",
    "**Example 1:**\n",
    "\n",
    "Approach:\n",
    "\n",
    "- Create a class named FlashCard.\n",
    "- Initialize dictionary fruits using __init__() method. Here you have to define fruit name as key and it's color as value. E.g., {\"Banana\": \"yellow\", \"Strawberries\": \"pink\"}\n",
    "- Now randomly choose a pair from fruits by using _random_ module and store the key in variable _fruit_ and _value_ in variable color.\n",
    "- Now prompt the user to answer the color of the randomly chosen fruit.\n",
    "- If correct print correct else print wrong.\n",
    "\n",
    "Output:\n",
    "```bash\n",
    "welcome to fruit quiz\n",
    "What is the color of Strawberries\n",
    "pink\n",
    "Correct answer\n",
    "Enter 0, if you want to play again: 0\n",
    "What is the color of watermelon\n",
    "green\n",
    "Correct answer\n",
    "Enter 0, if you want to play again: 1\n",
    "```"
   ]
  },
  {
   "cell_type": "code",
   "execution_count": null,
   "metadata": {
    "id": "vCrUF6VU6l6w"
   },
   "outputs": [
    {
     "name": "stdout",
     "output_type": "stream",
     "text": [
      "WELCOME TO THE FRUIT GAME--->\n",
      "What is the color of guava\n"
     ]
    },
    {
     "name": "stdin",
     "output_type": "stream",
     "text": [
      " green\n"
     ]
    },
    {
     "name": "stdout",
     "output_type": "stream",
     "text": [
      "Sahi Jabab: \n"
     ]
    },
    {
     "name": "stdin",
     "output_type": "stream",
     "text": [
      "Enter 0 to play again and 1 to exist from the Game:  1\n"
     ]
    },
    {
     "name": "stdout",
     "output_type": "stream",
     "text": [
      "thank you for playing the game: \n",
      "What is the color of apple\n"
     ]
    }
   ],
   "source": [
    "import random\n",
    "class FlashCard:\n",
    "    def __init__(self):\n",
    "        self.__fruits = {\n",
    "            'apple':'red',\n",
    "            \"banana\":\"yellow\",\n",
    "            'watermelon':'green',\n",
    "            'guava': 'green'\n",
    "        }\n",
    "    def quiz(self):\n",
    "        while True:\n",
    "            fruit,color = random.choice(list(self.__fruits.items()))\n",
    "            print(\"What is the color of {}\".format(fruit))\n",
    "            user_answer = input()\n",
    "            if user_answer.lower() ==color:\n",
    "                print(\"Sahi Jabab: \")\n",
    "            else:\n",
    "                print(\"Galat Jabab: \")\n",
    "            option = int(input(\"Enter 0 to play again and 1 to exist from the Game: \"))\n",
    "            if option:\n",
    "               break\n",
    "                \n",
    "print(\"WELCOME TO THE FRUIT GAME--->\")\n",
    "fc = FlashCard()\n",
    "fc.quiz()"
   ]
  },
  {
   "cell_type": "markdown",
   "metadata": {
    "id": "GN2r0jbRewYr"
   },
   "source": [
    "## `Q-5:` Problem 5 based on OOP Python.\n",
    "\n",
    "TechWorld, a technology training center, wants to allocate courses for instructors. An instructor is identified by name, technology skills, experience and average feedback. An instructor is allocated a course, if he/she satisfies the below two conditions:\n",
    "- eligibility criteria:\n",
    "    - if experience is more than 3 years, average feedback should be 4.5 or more\n",
    "    - if experience is 3 years or less, average feedback should be 4 or more\n",
    "- he/she should posses the technology skill for the course\n",
    "\n",
    "Identify the class name and attributes to represent instructors. Write a Python program to implement the class chosen with its attributes and methods.\n",
    "\n",
    "**Note:**\n",
    "- Consider all instance variables to be private and methods to be public.\n",
    "- An instructor may have multiple technology skills, so consider instance variable, technology_skill to be a list.\n",
    "- *check_eligibility()*: Return true if eligibility criteria is satisfied by the instructor. Else, return false\n",
    "- *allocate_course(technology)*: Return true if the course which requires the given technology can be allocated to the instructor. Else, return false.\n",
    "\n",
    "Represent a few objects of the class, initialize instance variables using setter methods, invoke\n",
    "appropriate methods and test your program."
   ]
  },
  {
   "cell_type": "code",
   "execution_count": 1,
   "metadata": {
    "id": "pdMFuVFnlvKL"
   },
   "outputs": [
    {
     "data": {
      "text/plain": [
       "'Padha sakta hai'"
      ]
     },
     "execution_count": 1,
     "metadata": {},
     "output_type": "execute_result"
    }
   ],
   "source": [
    "# write your code here\n",
    "\n",
    "class Instructor:\n",
    "\n",
    "    def __init__(self,name,technology,experience,feedback):\n",
    "        self.__name = name\n",
    "        self.__technology = technology\n",
    "        self.__experience = experience\n",
    "        self.__feedback = feedback\n",
    "\n",
    "    def check_eligibility(self):\n",
    "\n",
    "        if self.__experience > 3 and self.__feedback >= 4.5:\n",
    "            return True\n",
    "        elif self.__experience <= 3 and self.__feedback >= 4:\n",
    "            return True\n",
    "        else:\n",
    "            return False\n",
    "\n",
    "    def allocate_course(self,tech):\n",
    "        is_eligible = self.check_eligibility()\n",
    "\n",
    "        if is_eligible:\n",
    "            if tech in self.__technology:\n",
    "                return 'Padha sakta hai'\n",
    "            else:\n",
    "                return 'Ye to usko aata hi nai hai'\n",
    "        else:\n",
    "            return 'acha nai padhata hai'\n",
    "\n",
    "ins = Instructor('Nitish',['Data Science','Web Development'],5,4.9)\n",
    "ins.allocate_course('Web Development')\n"
   ]
  },
  {
   "cell_type": "code",
   "execution_count": 23,
   "metadata": {},
   "outputs": [
    {
     "data": {
      "text/plain": [
       "'he is not a good teacher.'"
      ]
     },
     "execution_count": 23,
     "metadata": {},
     "output_type": "execute_result"
    }
   ],
   "source": [
    "# write your code here\n",
    "class TechWorld:\n",
    "    def __init__(self,name,technology,experience,feedback):\n",
    "        self.__name = name\n",
    "        self.__technology = technology\n",
    "        self.__experience = experience\n",
    "        self.__feedback = feedback\n",
    "\n",
    "    def eligibility_criteria(self):\n",
    "        if self.__experience> 3 and self.__feedback>=4.5:\n",
    "            return True\n",
    "        elif self.__experience<=3 and self.__feedback>=4:\n",
    "            return True\n",
    "        else:\n",
    "            return False\n",
    "        \n",
    "    def allocate_course(self,tech):\n",
    "        is_eligible = self.eligibility_criteria()\n",
    "        if is_eligible:\n",
    "            if tech in self.__technology:\n",
    "                return 'he can teach'\n",
    "            else:\n",
    "                return 'he can not teach'\n",
    "        else:\n",
    "            return 'he is not a good teacher.'\n",
    "        \n",
    "ins = TechWorld('Rahul',['data science','web dev'],2,1)\n",
    "ins.allocate_course(\"kuch bhi\")\n",
    "        \n",
    "\n",
    "\n",
    "        "
   ]
  },
  {
   "cell_type": "code",
   "execution_count": null,
   "metadata": {},
   "outputs": [],
   "source": []
  }
 ],
 "metadata": {
  "colab": {
   "provenance": []
  },
  "kernelspec": {
   "display_name": "Python 3 (ipykernel)",
   "language": "python",
   "name": "python3"
  },
  "language_info": {
   "codemirror_mode": {
    "name": "ipython",
    "version": 3
   },
   "file_extension": ".py",
   "mimetype": "text/x-python",
   "name": "python",
   "nbconvert_exporter": "python",
   "pygments_lexer": "ipython3",
   "version": "3.12.4"
  },
  "widgets": {
   "application/vnd.jupyter.widget-state+json": {
    "state": {},
    "version_major": 2,
    "version_minor": 0
   }
  }
 },
 "nbformat": 4,
 "nbformat_minor": 4
}
